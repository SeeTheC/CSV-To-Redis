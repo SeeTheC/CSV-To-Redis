{
 "cells": [
  {
   "cell_type": "code",
   "execution_count": 1,
   "metadata": {
    "collapsed": true
   },
   "outputs": [],
   "source": [
    "import redis;\n",
    "import pandas;"
   ]
  },
  {
   "cell_type": "code",
   "execution_count": 5,
   "metadata": {
    "collapsed": true
   },
   "outputs": [],
   "source": [
    "def readCSVFile(file):\n",
    "    data=pandas.read_csv(file,\",\",header=0, na_values='?', skipinitialspace=True,);\n",
    "    return data;\n",
    "    pass;\n",
    "\n",
    "def loadDataToRedis(redis_cli,schema_name,dataframe,id_col_name):\n",
    "    df=dataframe;\n",
    "    name=None;\n",
    "    row_count=df.shape[0];\n",
    "    columns=df.columns;\n",
    "    if(id_col_name not in columns):\n",
    "        print(\"Column \"+id_col_name+ \" doesnot exits\");\n",
    "    for i in range(row_count):\n",
    "        row=df.ix[i];\n",
    "        id_val=str(row[id_col_name]).strip();\n",
    "        name=schema_name+\":\"+str(id_val);        \n",
    "        redis_cli.sadd(schema_name+\"_set\",id_val);\n",
    "        for c in columns:        \n",
    "            redis_cli.hset(name=name,key=c,value=str(row[c]).strip());                   \n",
    "    pass;"
   ]
  },
  {
   "cell_type": "code",
   "execution_count": 3,
   "metadata": {
    "collapsed": true
   },
   "outputs": [],
   "source": [
    "r_cli=redis.Redis(host=\"10.100.100.202\",port=6379,db=1);"
   ]
  },
  {
   "cell_type": "code",
   "execution_count": 4,
   "metadata": {
    "collapsed": true
   },
   "outputs": [],
   "source": [
    "#r_cli.hset(name=\"user:key1\",key=\"name\",value=\"abcde\");\n",
    "#r_cli.hset(name=\"user:key1\",key=\"add\",value=\"pune\");"
   ]
  },
  {
   "cell_type": "code",
   "execution_count": 7,
   "metadata": {},
   "outputs": [
    {
     "name": "stdout",
     "output_type": "stream",
     "text": [
      "(5708, 12)\n"
     ]
    }
   ],
   "source": [
    "dir=\"\"\n",
    "filename=dir+\"data2.csv\";\n",
    "df=readCSVFile(filename);\n",
    "print(df.shape);"
   ]
  },
  {
   "cell_type": "code",
   "execution_count": 8,
   "metadata": {},
   "outputs": [
    {
     "name": "stdout",
     "output_type": "stream",
     "text": [
      "Successfully loaded\n"
     ]
    }
   ],
   "source": [
    "loadDataToRedis(r_cli,'login',df,'node_ipaddr')\n",
    "print(\"Successfully loaded\");"
   ]
  },
  {
   "cell_type": "code",
   "execution_count": 11,
   "metadata": {
    "collapsed": true
   },
   "outputs": [],
   "source": []
  },
  {
   "cell_type": "code",
   "execution_count": null,
   "metadata": {
    "collapsed": true
   },
   "outputs": [],
   "source": []
  },
  {
   "cell_type": "code",
   "execution_count": null,
   "metadata": {
    "collapsed": true
   },
   "outputs": [],
   "source": []
  }
 ],
 "metadata": {
  "anaconda-cloud": {},
  "kernelspec": {
   "display_name": "Python 3",
   "language": "python",
   "name": "python3"
  },
  "language_info": {
   "codemirror_mode": {
    "name": "ipython",
    "version": 2
   },
   "file_extension": ".py",
   "mimetype": "text/x-python",
   "name": "python",
   "nbconvert_exporter": "python",
   "pygments_lexer": "ipython2",
   "version": "2.7.12"
  }
 },
 "nbformat": 4,
 "nbformat_minor": 2
}
